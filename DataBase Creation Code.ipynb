{
 "cells": [
  {
   "cell_type": "code",
   "execution_count": 1,
   "metadata": {},
   "outputs": [],
   "source": [
    "from selenium import webdriver\n",
    "from selenium.webdriver.common.keys import Keys\n",
    "import sqlite3\n",
    "from PIL import Image\n",
    "import regex as re\n",
    "import requests\n",
    "import shutil"
   ]
  },
  {
   "cell_type": "markdown",
   "metadata": {},
   "source": [
    "## Create Database"
   ]
  },
  {
   "cell_type": "code",
   "execution_count": 2,
   "metadata": {},
   "outputs": [],
   "source": [
    "def store_database(query, query_data):\n",
    "    database = sqlite3.connect('ProductDatabase.db')\n",
    "    cur = database.cursor()\n",
    "    cur.execute('''\n",
    "    CREATE TABLE IF NOT EXISTS Data_Overview \n",
    "    (Product_Name TEXT PRIMARY KEY, Category TEXT, Rating INTEGER, Image BLOB)\n",
    "    ''')\n",
    "    cur.execute('''\n",
    "    CREATE TABLE IF NOT EXISTS Product_Ingredient (Product_Name TEXT PRIMARY KEY, Ingredients TEXT)\n",
    "    ''')\n",
    "    cur.execute('''\n",
    "    CREATE TABLE IF NOT EXISTS  Ingredient_Data (Ingredient_Name TEXT PRIMARY KEY, Rating INTEGER, Concern TEXT)\n",
    "    ''')\n",
    "    cur.execute(query, query_data)\n",
    "    database.commit()\n",
    "    database.close()\n",
    "    return"
   ]
  },
  {
   "cell_type": "markdown",
   "metadata": {},
   "source": [
    "## Start Store of All Data"
   ]
  },
  {
   "cell_type": "code",
   "execution_count": 3,
   "metadata": {},
   "outputs": [],
   "source": [
    "def store_all_data():\n",
    "    for i in Data_Overview.keys():\n",
    "        query_data = tuple((i, Data_Overview[i]['Category'], Data_Overview[i]['Rating'], Data_Overview[i]['Image']))\n",
    "        query = '''\n",
    "        INSERT OR REPLACE INTO Data_Overview VALUES (?, ?, ?, ?)\n",
    "        '''\n",
    "        store_database(query, query_data)\n",
    "\n",
    "    for i in Product_Ingredient.keys():\n",
    "        query_data = tuple((i, Product_Ingredient[i]['Ingredient List']))\n",
    "        query = '''\n",
    "        INSERT OR REPLACE INTO Product_Ingredient VALUES (?, ?)\n",
    "        '''\n",
    "        store_database(query, query_data)\n",
    "\n",
    "    for i in Ingredient_Data.keys():\n",
    "        query_data = tuple((i, Ingredient_Data[i]['Rating'], Ingredient_Data[i]['Concern']))\n",
    "        query = '''\n",
    "        INSERT OR REPLACE INTO Ingredient_Data VALUES (?, ?, ?)\n",
    "        '''\n",
    "        store_database(query, query_data)\n"
   ]
  },
  {
   "cell_type": "markdown",
   "metadata": {},
   "source": [
    "## Function to Close any Pop-Ups"
   ]
  },
  {
   "cell_type": "code",
   "execution_count": 4,
   "metadata": {},
   "outputs": [],
   "source": [
    "def close_pop_ups():\n",
    "    try:\n",
    "        driver.find_element_by_xpath('//*[@id=\"lightbox-38369f2a-9d8e-4235-889b-c3f626e7be07-1584378520088\"]/div').click()\n",
    "    except Exception:\n",
    "        try:\n",
    "            driver.find_element_by_xpath('//*[@id=\"lightbox-c3d6f1b0-00f4-4afb-9adf-2babd8bee6e4-1584379938908\"]/div').click()\n",
    "        except Exception:\n",
    "            return"
   ]
  },
  {
   "cell_type": "markdown",
   "metadata": {},
   "source": [
    "## Function to Download Image and Store Object File"
   ]
  },
  {
   "cell_type": "code",
   "execution_count": 5,
   "metadata": {},
   "outputs": [],
   "source": [
    "def get_product_image(product_image):\n",
    "    for i in range(len(product_image)):\n",
    "        image = requests.get(product_image[i], stream = True)\n",
    "        \n",
    "        if image.status_code == 200:\n",
    "            with open(\"image.jpg\", \"wb\") as file:\n",
    "                image.raw.decode_content = True\n",
    "                shutil.copyfileobj(image.raw, file)\n",
    "        with open(\"image.jpg\", \"rb\") as file:\n",
    "            product_image[i] = file.read()\n",
    "        "
   ]
  },
  {
   "cell_type": "markdown",
   "metadata": {},
   "source": [
    "## Function to Get Page Detail of all categories"
   ]
  },
  {
   "cell_type": "code",
   "execution_count": 6,
   "metadata": {},
   "outputs": [],
   "source": [
    "def get_page_data(category_name):\n",
    "    product_link, product_name, product_image, product_rating = list(), list(), list(), list()\n",
    "    products = driver.find_elements_by_class_name('product-tile')\n",
    "    for product in products:\n",
    "        temp = product.find_element_by_tag_name('a').get_attribute('href')\n",
    "        product_link.append(temp)\n",
    "\n",
    "        product_name.append(temp[45:-1].replace(\"_\", \" \"))\n",
    "\n",
    "        product_image.append(product.find_element_by_class_name('product-image').get_attribute('src'))\n",
    "\n",
    "        try:\n",
    "            temp = product.find_element_by_class_name('product-score-img')\n",
    "            val = temp.get_attribute('class')\n",
    "            if 'verified' in val:\n",
    "                product_rating.append(0)\n",
    "            elif 'squircle' in val:\n",
    "                product_rating.append(int(temp.get_attribute('src')[52 : 54]))\n",
    "            else:\n",
    "                product_rating.append(-1)\n",
    "        except Exception:\n",
    "            product_rating.append(-1)\n",
    "    \n",
    "    get_product_image(product_image)        \n",
    "    get_product_details(product_link, product_name)\n",
    "\n",
    "\n",
    "    for i in range(len(product_name)):\n",
    "        if product_name[i] not in Data_Overview:\n",
    "            Data_Overview[product_name[i]] = {\n",
    "            \"Category\" : category_name, \n",
    "            \"Rating\" : product_rating[i], \n",
    "            \"Image\" : product_image[i]\n",
    "            }\n",
    "    return"
   ]
  },
  {
   "cell_type": "markdown",
   "metadata": {},
   "source": [
    "## Function to get table data of each product"
   ]
  },
  {
   "cell_type": "code",
   "execution_count": 7,
   "metadata": {},
   "outputs": [],
   "source": [
    "def get_product_details(product_link, product_name):\n",
    "    \n",
    "    for link in product_link:\n",
    "        driver.get(link)\n",
    "        \n",
    "        table = driver.find_element_by_tag_name('table')\n",
    "        \n",
    "        score = table.find_elements_by_class_name('ingredient-score')\n",
    "        score = list(map(lambda x : int(x.get_attribute('src')[52 : 54]) , score))\n",
    "        \n",
    "        ingredients = table.find_elements_by_class_name('td-ingredient-interior')\n",
    "        ingredients = list(map(lambda x : x.text.replace('\\n', ' | '), ingredients))\n",
    "        \n",
    "        concern = table.find_elements_by_class_name('td-concern-interior')\n",
    "        concern = list(map(lambda x : x.text.replace('• ', '').replace('\\n', ' | '), concern))\n",
    "        \n",
    "        for i in range(len(ingredients)):\n",
    "            if ingredients[i] not in Ingredient_Data:\n",
    "                Ingredient_Data[ingredients[i]] = {\n",
    "                    \"Rating\" : score[i], \n",
    "                    \"Concern\" : concern[i] \n",
    "                }\n",
    "        name = product_name[product_link.index(link)]\n",
    "        if name not in Product_Ingredient:\n",
    "            Product_Ingredient[name] = {\n",
    "                \"Ingredient List\" : \" || \".join(ingredients)\n",
    "            }"
   ]
  },
  {
   "cell_type": "markdown",
   "metadata": {},
   "source": [
    "## Main Function that drives the Code"
   ]
  },
  {
   "cell_type": "code",
   "execution_count": 8,
   "metadata": {
    "scrolled": false
   },
   "outputs": [],
   "source": [
    "def scrape():    \n",
    "    try:\n",
    "        makeup = driver.find_element_by_xpath('/html/body/div[2]/header/nav[1]/ul[1]/li[5]')\n",
    "    except Exception:\n",
    "        makeup = driver.find_element_by_xpath('/html/body/div[2]/header/nav[2]/ul/li[5]/div')\n",
    "\n",
    "    categories = list(map(lambda x : x.get_attribute(\"href\"), makeup.find_elements_by_tag_name('a')))[:-2]\n",
    "\n",
    "    for category in categories[8:]:\n",
    "        category_name = category.split('/')[-2]     \n",
    "        next_page = category\n",
    "        index = 0\n",
    "        while next_page:\n",
    "            driver.get(next_page)\n",
    "            get_page_data(category_name)\n",
    "            driver.get(next_page)\n",
    "            link = ['/html/body/div[2]/div/main/section[4]/div[1]/a',\n",
    "                    '/html/body/div[2]/div/main/section[4]/div[1]/a[2]',\n",
    "                    '/html/body/div[2]/div/main/section[3]/div[2]/a[7]',\n",
    "                    '/html/body/div[2]/div/main/section[3]/div[2]/a[8]']\n",
    "            try:\n",
    "                next_page = driver.find_element_by_xpath(link[index]).get_attribute(\"href\")\n",
    "            except Exception:\n",
    "                try:\n",
    "                    next_page = driver.find_element_by_xpath(link[index + 2]).get_attribute(\"href\")\n",
    "                except Exception:\n",
    "                    next_page = False\n",
    "            index = 1\n",
    "        categories[categories.index(category)] = True\n",
    "        store_all_data()\n"
   ]
  },
  {
   "cell_type": "markdown",
   "metadata": {},
   "source": [
    "## Start the Crawler Engine"
   ]
  },
  {
   "cell_type": "code",
   "execution_count": 10,
   "metadata": {},
   "outputs": [],
   "source": [
    "driver = webdriver.Chrome()\n",
    "driver.implicitly_wait(10)\n",
    "URL = 'https://www.ewg.org/skindeep/'\n",
    "driver.get(URL)\n",
    "Data_Overview = dict()\n",
    "Product_Ingredient = dict()\n",
    "Ingredient_Data = dict()\n",
    "scrape()\n",
    "store_all_data()\n",
    "driver.close()\n",
    "return"
   ]
  },
  {
   "cell_type": "code",
   "execution_count": null,
   "metadata": {},
   "outputs": [],
   "source": []
  },
  {
   "cell_type": "code",
   "execution_count": null,
   "metadata": {},
   "outputs": [],
   "source": []
  },
  {
   "cell_type": "code",
   "execution_count": null,
   "metadata": {},
   "outputs": [],
   "source": []
  }
 ],
 "metadata": {
  "kernelspec": {
   "display_name": "Python 3",
   "language": "python",
   "name": "python3"
  },
  "language_info": {
   "codemirror_mode": {
    "name": "ipython",
    "version": 3
   },
   "file_extension": ".py",
   "mimetype": "text/x-python",
   "name": "python",
   "nbconvert_exporter": "python",
   "pygments_lexer": "ipython3",
   "version": "3.7.3"
  }
 },
 "nbformat": 4,
 "nbformat_minor": 4
}
